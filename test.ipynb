{
 "nbformat": 4,
 "nbformat_minor": 2,
 "metadata": {
  "language_info": {
   "name": "python",
   "codemirror_mode": {
    "name": "ipython",
    "version": 3
   },
   "version": "3.7.4"
  },
  "orig_nbformat": 2,
  "file_extension": ".py",
  "mimetype": "text/x-python",
  "name": "python",
  "npconvert_exporter": "python",
  "pygments_lexer": "ipython3",
  "version": 3
 },
 "cells": [
  {
   "cell_type": "code",
   "execution_count": 1,
   "metadata": {},
   "outputs": [],
   "source": [
    "#import os\n",
    "##print(os.listdir(\"/home/louis/Documents/Challenge_drone_swarm/droneswarm-master/py_control\"))\n",
    "#print(os.getcwd())\n",
    "from drone_swarm import DroneSwarm\n",
    "from time import sleep\n",
    "import time\n",
    "import numpy as np\n",
    "from PIL import Image\n"
   ]
  },
  {
   "cell_type": "code",
   "execution_count": 2,
   "metadata": {},
   "outputs": [
    {
     "name": "stdout",
     "output_type": "stream",
     "text": "drone1 takeoff cmd published\ndrone2 takeoff cmd published\ndrone3 takeoff cmd published\ndrone4 takeoff cmd published\ndrone5 takeoff cmd published\nDécollage\n\n"
    }
   ],
   "source": [
    "swarm = DroneSwarm()\n",
    "swarm.turn_on()\n",
    "sleep(1)\n",
    "swarm.take_off()\n",
    "print(\"Décollage\\n\")"
   ]
  },
  {
   "cell_type": "code",
   "execution_count": 65,
   "metadata": {},
   "outputs": [
    {
     "name": "stdout",
     "output_type": "stream",
     "text": "Altitudes : 0.0, 0.0, 0.0, 0.0, 0.0\n"
    }
   ],
   "source": [
    "print(\"Altitudes : \" + \", \".join(\"%0.1f\" % p[2]\n",
    "                                         for p in swarm.get_position()))"
   ]
  },
  {
   "cell_type": "code",
   "metadata": {},
   "outputs": [],
   "source": [
    "print(swarm.get_orientation())"
   ]
  },
  {
   "cell_type": "code",
   "metadata": {},
   "outputs": [],
   "source": [
    "speed= 10\n",
    "swarm.up(speed)\n",
    "sleep(1); swarm.stop();"
   ]
  },
  {
   "cell_type": "code",
   "execution_count": 77,
   "metadata": {},
   "outputs": [
    {
     "name": "stdout",
     "output_type": "stream",
     "text": "clockwise(val=0)\nclockwise(val=0)\nclockwise(val=0)\nclockwise(val=0)\nclockwise(val=0)\n"
    }
   ],
   "source": [
    "#angle=2/3*speed*sleep\n",
    "speed= -1\n",
    "swarm.forwardspeed)\n",
    "sleep(3); swarm.stop();"
   ]
  },
  {
   "cell_type": "code",
   "execution_count": 5,
   "metadata": {},
   "outputs": [
    {
     "name": "stdout",
     "output_type": "stream",
     "text": "forward(val=-10)\nforward(val=-10)\nforward(val=-10)\nforward(val=-10)\nforward(val=-10)\n"
    }
   ],
   "source": [
    "speed= -10\n",
    "swarm.forward(speed)"
   ]
  },
  {
   "cell_type": "code",
   "execution_count": 6,
   "metadata": {},
   "outputs": [
    {
     "name": "stdout",
     "output_type": "stream",
     "text": "clockwise(val=1)\nclockwise(val=1)\nclockwise(val=1)\nclockwise(val=1)\nclockwise(val=1)\n"
    }
   ],
   "source": [
    "speed= 1\n",
    "swarm.clockwise(speed)"
   ]
  },
  {
   "cell_type": "code",
   "execution_count": 7,
   "metadata": {},
   "outputs": [],
   "source": [
    "swarm.stop();"
   ]
  },
  {
   "cell_type": "code",
   "metadata": {},
   "outputs": [],
   "source": [
    "speed= 5\n",
    "swarm.forward(speed)\n",
    "sleep(5); swarm.stop();"
   ]
  },
  {
   "cell_type": "code",
   "execution_count": 8,
   "metadata": {},
   "outputs": [],
   "source": [
    "NomFichier = '/home/louis/Documents/Challenge_drone_swarm/droneswarm-master/img/test359.png'   \n",
    "f=swarm.get_view(3)\n",
    "img = Image.fromarray(f, 'RGB')\n",
    "r,g,b=img.split()\n",
    "img=Image.merge('RGB',(b,g,r))\n",
    "#img.save(NomFichier)\n",
    "img.show()"
   ]
  },
  {
   "cell_type": "code",
   "execution_count": 5,
   "metadata": {},
   "outputs": [],
   "source": [
    "NomFichier = '/home/louis/Documents/Challenge_drone_swarm/droneswarm-master/img/swarm_view.png'   \n",
    "f=swarm.get_swarm_view()\n",
    "img = Image.fromarray(f, 'RGB')\n",
    "b,g,r=img.split()\n",
    "img=Image.merge('RGB',(r,g,b))\n",
    "img.save(NomFichier)\n",
    "img.show()"
   ]
  },
  {
   "cell_type": "code",
   "metadata": {},
   "outputs": [],
   "source": [
    "start=time.time()\n",
    "while(time.time()-start<10):\n",
    "    t=time.time()\n",
    "    swarm.set_linear_velocity([5, 0, 0])\n",
    "    swarm.set_angular_velocity([0,0, np.cos(t)])\n",
    "    \n",
    "swarm.stop()"
   ]
  },
  {
   "cell_type": "code",
   "execution_count": 9,
   "metadata": {},
   "outputs": [
    {
     "name": "stdout",
     "output_type": "stream",
     "text": "down(val=1)\ndown(val=1)\ndown(val=1)\ndown(val=1)\ndown(val=1)\ndrone1 land cmd published\ndrone2 land cmd published\ndrone3 land cmd published\ndrone4 land cmd published\ndrone5 land cmd published\ndrone1 land cmd published\ndrone2 land cmd published\ndrone3 land cmd published\ndrone4 land cmd published\ndrone5 land cmd published\n\nDrones éteints\n"
    }
   ],
   "source": [
    "swarm.down(1)\n",
    "sleep(0.5)\n",
    "swarm.land()\n",
    "sleep(10)\n",
    "\n",
    "swarm.turn_off()\n",
    "print(\"\\nDrones éteints\")"
   ]
  },
  {
   "cell_type": "code",
   "metadata": {},
   "outputs": [],
   "source": []
  }
 ]
}